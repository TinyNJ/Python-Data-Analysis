{
 "cells": [
  {
   "cell_type": "code",
   "execution_count": 2,
   "id": "c1c3af30-e323-4958-815c-2c91f689772c",
   "metadata": {},
   "outputs": [
    {
     "name": "stdout",
     "output_type": "stream",
     "text": [
      "0\n",
      "2\n",
      "4\n",
      "6\n",
      "8\n",
      "10\n",
      "12\n",
      "14\n",
      "16\n",
      "18\n",
      "20\n"
     ]
    }
   ],
   "source": [
    "even = [0,2,4,6,8,10,12,14,16,18,20]\n",
    "for n in even:\n",
    "    print(n)"
   ]
  },
  {
   "cell_type": "code",
   "execution_count": 4,
   "id": "c53113af-9e4d-4619-9ba4-dbf19d0fe3fc",
   "metadata": {},
   "outputs": [
    {
     "name": "stdout",
     "output_type": "stream",
     "text": [
      "0 2 4 6 8 10 12 14 16 18 20 "
     ]
    }
   ],
   "source": [
    "# if we want them in 1 line and spaces in between\n",
    "for n in even:\n",
    "    print(n, end = \" \")"
   ]
  },
  {
   "cell_type": "code",
   "execution_count": 6,
   "id": "e211df95-f803-4dbf-8f60-af6406552b43",
   "metadata": {},
   "outputs": [
    {
     "name": "stdout",
     "output_type": "stream",
     "text": [
      "0\n",
      "1\n",
      "2\n",
      "3\n",
      "4\n",
      "5\n",
      "6\n",
      "7\n",
      "8\n",
      "9\n"
     ]
    }
   ],
   "source": [
    "#example\n",
    "digits = [0,1,2,3,4,5,6,7,8,9]\n",
    "for n in digits:\n",
    "    print(n)"
   ]
  },
  {
   "cell_type": "code",
   "execution_count": 8,
   "id": "7e3cbada-1a04-4cca-b6a8-3f083bb49234",
   "metadata": {},
   "outputs": [
    {
     "name": "stdout",
     "output_type": "stream",
     "text": [
      "0 1 2 3 4 5 6 7 8 9 "
     ]
    }
   ],
   "source": [
    "digits = [0,1,2,3,4,5,6,7,8,9]\n",
    "\n",
    "for d in digits:\n",
    "    print (d, end = \" \")"
   ]
  },
  {
   "cell_type": "code",
   "execution_count": 10,
   "id": "390cbbaf-574c-417d-89e4-3d839a28fad7",
   "metadata": {},
   "outputs": [
    {
     "name": "stdout",
     "output_type": "stream",
     "text": [
      "0 2 4 6 8 10 12 14 16 18 20 "
     ]
    }
   ],
   "source": [
    "#While Loops and incrementing\n",
    "x = 0\n",
    "while x <= 20:\n",
    "    print(x, end = \" \") #don't leave the code here while us\n",
    "    x = x+2 #this is called incrementing"
   ]
  },
  {
   "cell_type": "code",
   "execution_count": 12,
   "id": "71fac2ef-155c-4f14-9c13-b115270f602a",
   "metadata": {},
   "outputs": [
    {
     "name": "stdout",
     "output_type": "stream",
     "text": [
      "0 2 4 6 8 10 12 14 16 18 20 "
     ]
    }
   ],
   "source": [
    "##or the above can be written like the below, the python syntax to show that we are incrementing:\n",
    "x = 0\n",
    "while x <= 20:\n",
    "    print(x, end = \" \")\n",
    "    x += 2"
   ]
  },
  {
   "cell_type": "code",
   "execution_count": 27,
   "id": "f870e53d-21e9-475a-a253-6215c9ab277a",
   "metadata": {},
   "outputs": [
    {
     "name": "stdout",
     "output_type": "stream",
     "text": [
      "1 3 5 7 9 11 13 15 17 19 21 23 25 27 29 "
     ]
    }
   ],
   "source": [
    "#Create a while loop that will print all odd numbers from 0 to 30 on the same row.\n",
    "# Initialize the starting number\n",
    "odd_num = 1\n",
    "\n",
    "# Start the while loop\n",
    "while odd_num <= 30:\n",
    "    # Check if the number is odd\n",
    "    if odd_num % 2 != 0:\n",
    "        print(odd_num, end=\" \")  # Print the number on the same row\n",
    "    # Increment the number by 1\n",
    "    odd_num += 1\n",
    "#The % symbol is the modulus operator (also called the remainder operator). It calculates the remainder after division.\n",
    "#num % 2 != 0 - The remainder when odd_num is divided by 2 is not equal to 0."
   ]
  },
  {
   "cell_type": "code",
   "execution_count": 29,
   "id": "a2b1046b-5653-459e-8a1f-67fc4a06ac3e",
   "metadata": {},
   "outputs": [
    {
     "data": {
      "text/plain": [
       "range(0, 10)"
      ]
     },
     "execution_count": 29,
     "metadata": {},
     "output_type": "execute_result"
    }
   ],
   "source": [
    "#Create lists with a range() function\n",
    "range(10)"
   ]
  },
  {
   "cell_type": "code",
   "execution_count": 31,
   "id": "ad7a4d09-b269-47db-a19c-bed0a82b2280",
   "metadata": {},
   "outputs": [
    {
     "data": {
      "text/plain": [
       "[0, 1, 2, 3, 4, 5, 6, 7, 8, 9]"
      ]
     },
     "execution_count": 31,
     "metadata": {},
     "output_type": "execute_result"
    }
   ],
   "source": [
    "#use list(range(10)) to display the sequence as a list\n",
    "list(range(10))"
   ]
  },
  {
   "cell_type": "code",
   "execution_count": 33,
   "id": "67cb7de0-f1a6-45bf-9bec-40f67e645c21",
   "metadata": {},
   "outputs": [
    {
     "data": {
      "text/plain": [
       "range(3, 7)"
      ]
     },
     "execution_count": 33,
     "metadata": {},
     "output_type": "execute_result"
    }
   ],
   "source": [
    "range(3,7) # = range(3,7,1)"
   ]
  },
  {
   "cell_type": "code",
   "execution_count": 35,
   "id": "3741d7f9-66d7-4e34-9c4e-2e716df3174f",
   "metadata": {},
   "outputs": [
    {
     "data": {
      "text/plain": [
       "[3, 4, 5, 6]"
      ]
     },
     "execution_count": 35,
     "metadata": {},
     "output_type": "execute_result"
    }
   ],
   "source": [
    "list(range(3,7))"
   ]
  },
  {
   "cell_type": "code",
   "execution_count": 37,
   "id": "dfd5e242-efe9-4d6e-a8ca-bd07b51beb3c",
   "metadata": {},
   "outputs": [
    {
     "data": {
      "text/plain": [
       "range(1, 20, 2)"
      ]
     },
     "execution_count": 37,
     "metadata": {},
     "output_type": "execute_result"
    }
   ],
   "source": [
    "range(1,20,2)"
   ]
  },
  {
   "cell_type": "code",
   "execution_count": 39,
   "id": "5d4022aa-6d22-4ba5-ae9e-9210a37cc72b",
   "metadata": {},
   "outputs": [
    {
     "data": {
      "text/plain": [
       "[1, 3, 5, 7, 9, 11, 13, 15, 17, 19]"
      ]
     },
     "execution_count": 39,
     "metadata": {},
     "output_type": "execute_result"
    }
   ],
   "source": [
    "list(range(1,20,2))"
   ]
  },
  {
   "cell_type": "code",
   "execution_count": 41,
   "id": "5405480e-0523-4341-ba61-737d6834d4bb",
   "metadata": {},
   "outputs": [
    {
     "data": {
      "text/plain": [
       "range(1, 11)"
      ]
     },
     "execution_count": 41,
     "metadata": {},
     "output_type": "execute_result"
    }
   ],
   "source": [
    "#Use the range() function to create a list with all numbers from 1 to 10.\n",
    "range(1,11)"
   ]
  },
  {
   "cell_type": "code",
   "execution_count": 45,
   "id": "e6a48603-7eee-424f-ae32-ffbab4cdc496",
   "metadata": {},
   "outputs": [
    {
     "data": {
      "text/plain": [
       "[1, 2, 3, 4, 5, 6, 7, 8, 9, 10]"
      ]
     },
     "execution_count": 45,
     "metadata": {},
     "output_type": "execute_result"
    }
   ],
   "source": [
    "list(range(1,11))"
   ]
  },
  {
   "cell_type": "code",
   "execution_count": 47,
   "id": "5db84a19-5bf3-48b0-961c-30a0f50a6673",
   "metadata": {},
   "outputs": [
    {
     "data": {
      "text/plain": [
       "[0, 1, 2, 3, 4, 5, 6, 7, 8, 9, 10, 11, 12, 13, 14, 15, 16, 17, 18, 19]"
      ]
     },
     "execution_count": 47,
     "metadata": {},
     "output_type": "execute_result"
    }
   ],
   "source": [
    "#Use the range() function to create a list with all numbers from 0 to 19\n",
    "\n",
    "list(range(0,20))"
   ]
  },
  {
   "cell_type": "code",
   "execution_count": 51,
   "id": "9ed0ad2e-43ac-418c-849e-79819c14819d",
   "metadata": {},
   "outputs": [
    {
     "data": {
      "text/plain": [
       "[0, 2, 4, 6, 8, 10, 12, 14, 16, 18, 20, 22, 24, 26, 28, 30]"
      ]
     },
     "execution_count": 51,
     "metadata": {},
     "output_type": "execute_result"
    }
   ],
   "source": [
    "#Use the range() function to create a list with all even numbers from 0 to 30 included.\n",
    "list(range(0,31,2))"
   ]
  },
  {
   "cell_type": "code",
   "execution_count": 55,
   "id": "be25fcff-5453-4055-a1aa-faa9c68cac3a",
   "metadata": {},
   "outputs": [
    {
     "name": "stdout",
     "output_type": "stream",
     "text": [
      "1 2 4 8 16 32 64 128 256 512 "
     ]
    }
   ],
   "source": [
    "#Conditional statements and Loops\n",
    "\n",
    "for n in range(10):\n",
    "    print(2 ** n, end = \" \")\n"
   ]
  },
  {
   "cell_type": "code",
   "execution_count": 62,
   "id": "c9486c33-c650-4d24-8437-2030ba0606d5",
   "metadata": {},
   "outputs": [
    {
     "name": "stdout",
     "output_type": "stream",
     "text": [
      "0 Odd 2 Odd 4 Odd 6 Odd 8 Odd 10 Odd 12 Odd 14 Odd 16 Odd 18 Odd "
     ]
    }
   ],
   "source": [
    "for x in range(20):\n",
    "    if x % 2 == 0:\n",
    "        print(x, end = \" \")\n",
    "    else:\n",
    "        print(\"Odd\", end = \" \")\n"
   ]
  },
  {
   "cell_type": "code",
   "execution_count": 66,
   "id": "6eda4307-46eb-4187-a795-615de1b78275",
   "metadata": {},
   "outputs": [
    {
     "name": "stdout",
     "output_type": "stream",
     "text": [
      "0 1 2 "
     ]
    }
   ],
   "source": [
    "#another way to program a loop\n",
    "x = [0,1,2]\n",
    "for item in x:\n",
    "    print(item, end = \" \")"
   ]
  },
  {
   "cell_type": "code",
   "execution_count": 72,
   "id": "35e90850-0bb3-4b8b-8d68-97b6764caa6b",
   "metadata": {},
   "outputs": [
    {
     "name": "stdout",
     "output_type": "stream",
     "text": [
      "0 1 2 "
     ]
    }
   ],
   "source": [
    "##or we do this below: this is complicated for advanced coding\n",
    "for item in range(len(x)):\n",
    "    print(x[item], end = \" \")"
   ]
  },
  {
   "cell_type": "code",
   "execution_count": 88,
   "id": "92a6afaf-ba60-443f-92ca-7a8a111f9d5a",
   "metadata": {},
   "outputs": [
    {
     "name": "stdout",
     "output_type": "stream",
     "text": [
      "2\n",
      "4\n",
      "6\n",
      "8\n",
      "10\n",
      "12\n",
      "14\n",
      "16\n",
      "18\n",
      "20\n"
     ]
    }
   ],
   "source": [
    "#Create a For loop that will print all the variables from \n",
    "#a given list multiplied by 2. Let the list contain all numbers from 1 to 10. Create it with the help of the range() function.\n",
    "# Create a list of numbers from 1 to 10 using range()\n",
    "numbers = range(1, 11)\n",
    "\n",
    "# Iterate through the list\n",
    "for num in numbers:\n",
    "    print(num * 2)  # Multiply each number by 2 and print it"
   ]
  },
  {
   "cell_type": "code",
   "execution_count": 90,
   "id": "7eed0d16-1fba-4e64-b0e6-7ba5946943d2",
   "metadata": {},
   "outputs": [
    {
     "name": "stdout",
     "output_type": "stream",
     "text": [
      "1 Even 3 Even 5 Even 7 Even 9 Even 11 Even 13 Even 15 Even 17 Even 19 Even 21 Even 23 Even 25 Even 27 Even 29 Even "
     ]
    }
   ],
   "source": [
    "#Create a little program that runs a loop over all values from 1 to 30. Let it print all odd numbers, and in the place of the even numbers, \n",
    "#it should print \"Even\". Help yourself with the range() function to solve this exercise.\n",
    "\n",
    "n_odd = range(1,31)\n",
    "\n",
    "for n in n_odd:\n",
    "    if n % 2 != 0:\n",
    "        print(n, end = \" \")\n",
    "    else:\n",
    "        print(\"Even\", end = \" \")"
   ]
  },
  {
   "cell_type": "code",
   "execution_count": 92,
   "id": "ed095bc4-689a-419f-9e57-37b14df25477",
   "metadata": {},
   "outputs": [
    {
     "name": "stdout",
     "output_type": "stream",
     "text": [
      "10 20 30 40 50 60 "
     ]
    }
   ],
   "source": [
    "#You are given the following list of numbers. \n",
    "#Iterate over this list, printing each value multiplied by 10 on the same line. Provide two solutions to this problem.\n",
    "#n = [1,2,3,4,5,6]\n",
    "n = [1,2,3,4,5,6]\n",
    "\n",
    "for x in n:\n",
    "    print(x * 10, end = \" \")\n",
    "\n"
   ]
  },
  {
   "cell_type": "code",
   "execution_count": 94,
   "id": "38e5b65b-4df0-4aa6-abfe-1f03f8829900",
   "metadata": {},
   "outputs": [
    {
     "name": "stdout",
     "output_type": "stream",
     "text": [
      "10 20 30 40 50 60 "
     ]
    }
   ],
   "source": [
    "for item in range(len(n)):\n",
    "    print(n[item] * 10, end = \" \")"
   ]
  },
  {
   "cell_type": "code",
   "execution_count": 100,
   "id": "16fe6751-9936-45a6-a01f-68c795b7be8c",
   "metadata": {},
   "outputs": [
    {
     "data": {
      "text/plain": [
       "5"
      ]
     },
     "execution_count": 100,
     "metadata": {},
     "output_type": "execute_result"
    }
   ],
   "source": [
    "#How can we count the number of items whose value is less than 20 in a list\n",
    "\n",
    "def count(numbers):\n",
    "    total = 0\n",
    "    for x in numbers:\n",
    "        if x < 20:\n",
    "            total += 1\n",
    "    return total\n",
    "\n",
    "list_1 = [1,3,7,15,23,43,56,98,17]\n",
    "count(list_1)"
   ]
  },
  {
   "cell_type": "code",
   "execution_count": 104,
   "id": "6982401e-2f22-46a8-a14c-181ae03907a1",
   "metadata": {},
   "outputs": [
    {
     "name": "stdout",
     "output_type": "stream",
     "text": [
      "Number of values lower than 20: 2\n"
     ]
    }
   ],
   "source": [
    "#You are provided with the nums list. \n",
    "#Define a function called count() containing a while loop to count the number of values in the nums list that are lower than 20.\n",
    "\n",
    "# Provided nums list\n",
    "nums = [1, 35, 12, 24, 31, 51, 70, 100]\n",
    "\n",
    "# Define the count function\n",
    "def count():\n",
    "    i = 0  # Initialize index\n",
    "    count_below_20 = 0  # Initialize the counter\n",
    "    \n",
    "    while i < len(nums):  # Loop through the list\n",
    "        if nums[i] < 20:  # Check if the current value is less than 20\n",
    "            count_below_20 += 1  # Increment the counter\n",
    "        i += 1  # Move to the next index\n",
    "    \n",
    "    return count_below_20  # Return the count\n",
    "\n",
    "# Call the function and print the result\n",
    "result = count()\n",
    "print(f\"Number of values lower than 20: {result}\")\n",
    "    "
   ]
  },
  {
   "cell_type": "code",
   "execution_count": 106,
   "id": "0a283f7b-b417-4fcb-a260-8f6bc8c81e26",
   "metadata": {},
   "outputs": [
    {
     "name": "stdout",
     "output_type": "stream",
     "text": [
      "74\n"
     ]
    }
   ],
   "source": [
    "#Iterating dictionaries/ Looping dictionaries\n",
    "prices = {\n",
    "    \"box_of_spaghetti\" :4,\n",
    "    \"lasagna\" : 5,\n",
    "    \"hamburger\" : 2\n",
    "}\n",
    "quantity = {\n",
    "    \"box_of_spaghetti\" :6,\n",
    "    \"lasagna\" : 10,\n",
    "    \"hamburger\" : 0\n",
    "}\n",
    "# How much did Jan spend in the supermarket??\n",
    "money_spent = 0\n",
    "for i in prices:\n",
    "    money_spent = money_spent + (prices[i] * quantity[i])\n",
    "print(money_spent)\n",
    "\n"
   ]
  },
  {
   "cell_type": "code",
   "execution_count": null,
   "id": "8da64e30-cdfb-4896-b45e-7547cd24338e",
   "metadata": {},
   "outputs": [],
   "source": []
  }
 ],
 "metadata": {
  "kernelspec": {
   "display_name": "Python 3 (ipykernel)",
   "language": "python",
   "name": "python3"
  },
  "language_info": {
   "codemirror_mode": {
    "name": "ipython",
    "version": 3
   },
   "file_extension": ".py",
   "mimetype": "text/x-python",
   "name": "python",
   "nbconvert_exporter": "python",
   "pygments_lexer": "ipython3",
   "version": "3.12.4"
  }
 },
 "nbformat": 4,
 "nbformat_minor": 5
}
